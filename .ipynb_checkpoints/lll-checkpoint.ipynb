{
 "cells": [
  {
   "cell_type": "code",
   "execution_count": 4,
   "id": "cc393217",
   "metadata": {},
   "outputs": [
    {
     "name": "stdout",
     "output_type": "stream",
     "text": [
      "a is2\n",
      "yes\n"
     ]
    }
   ],
   "source": [
    "a=int(input(\"a is\"))\n",
    "if(a==2):\n",
    "    print(\"yes\")\n",
    "elif(a==4):\n",
    "        print(\"No\")"
   ]
  },
  {
   "cell_type": "code",
   "execution_count": 11,
   "id": "8f783697",
   "metadata": {},
   "outputs": [
    {
     "name": "stdout",
     "output_type": "stream",
     "text": [
      "Enter the first num:78\n",
      "Enter the second num:12\n",
      "Enter the operator+\n",
      "the result is: 90\n"
     ]
    }
   ],
   "source": [
    "a=int(input(\"Enter the first num:\"))\n",
    "b=int(input(\"Enter the second num:\"))\n",
    "c=input(\"Enter the operator\")\n",
    "if(c=='+'):\n",
    "    print(\"the result is:\",a+b)\n",
    "elif c=='-':\n",
    "    print(\"the result is:\",a-b)\n",
    "elif c=='*':\n",
    "    print(\"the result is:\",a*b)\n",
    "elif c=='/':\n",
    "    print(\"the result is:\",a/b)"
   ]
  },
  {
   "cell_type": "code",
   "execution_count": 12,
   "id": "24bb4a25",
   "metadata": {},
   "outputs": [
    {
     "name": "stdout",
     "output_type": "stream",
     "text": [
      "Subraction of 10 and 5 is 5\n"
     ]
    }
   ],
   "source": [
    "a=10\n",
    "b=5\n",
    "print(f\"Subraction of {a} and {b} is {a-b}\")"
   ]
  },
  {
   "cell_type": "code",
   "execution_count": null,
   "id": "b01de2c7",
   "metadata": {},
   "outputs": [],
   "source": []
  }
 ],
 "metadata": {
  "kernelspec": {
   "display_name": "Python 3 (ipykernel)",
   "language": "python",
   "name": "python3"
  },
  "language_info": {
   "codemirror_mode": {
    "name": "ipython",
    "version": 3
   },
   "file_extension": ".py",
   "mimetype": "text/x-python",
   "name": "python",
   "nbconvert_exporter": "python",
   "pygments_lexer": "ipython3",
   "version": "3.9.13"
  }
 },
 "nbformat": 4,
 "nbformat_minor": 5
}
